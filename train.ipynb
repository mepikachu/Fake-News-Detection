{
 "cells": [
  {
   "cell_type": "code",
   "execution_count": 3,
   "metadata": {},
   "outputs": [
    {
     "name": "stdout",
     "output_type": "stream",
     "text": [
      "Loading dataset...\n"
     ]
    }
   ],
   "source": [
    "import pandas as pd\n",
    "from sklearn.model_selection import train_test_split\n",
    "from sklearn.feature_extraction.text import TfidfVectorizer\n",
    "from sklearn.linear_model import LogisticRegression\n",
    "from sklearn.metrics import accuracy_score, confusion_matrix, classification_report\n",
    "import joblib\n",
    "\n",
    "# Load the fake and true datasets\n",
    "print(\"Loading dataset...\")\n",
    "df_fake = pd.read_csv('data/fake.csv')\n",
    "df_true = pd.read_csv('data/true.csv')\n",
    "\n",
    "# Add labels to each dataset\n",
    "df_fake['label'] = 1  # 1 for fake news\n",
    "df_true['label'] = 0  # 0 for true news\n",
    "\n",
    "# Combine both datasets into a single DataFrame\n",
    "df = pd.concat([df_fake, df_true], ignore_index=True)\n",
    "df = df[['text', 'label']]  # We’ll only use the 'text' and 'label' columns\n",
    "\n",
    "# Split data into training and test sets\n",
    "X_train, X_test, y_train, y_test = train_test_split(df['text'], df['label'], test_size=0.2, random_state=42)\n",
    "\n",
    "# Convert text data to TF-IDF features\n",
    "vectorizer = TfidfVectorizer(max_features=10000, ngram_range=(1, 2), stop_words='english')\n",
    "X_train_tfidf = vectorizer.fit_transform(X_train)\n",
    "X_test_tfidf = vectorizer.transform(X_test)\n",
    "\n",
    "# Save the vectorizer for future use\n",
    "with open('models/fake_news_vectorizer.pkl', 'wb') as f:\n",
    "    joblib.dump(vectorizer, f)"
   ]
  },
  {
   "cell_type": "code",
   "execution_count": 9,
   "metadata": {},
   "outputs": [
    {
     "name": "stdout",
     "output_type": "stream",
     "text": [
      "Training SVM model...\n",
      "Model training complete.\n",
      "Evaluating SVM model on the test dataset...\n",
      "Accuracy: 0.994097995545657\n",
      "Confusion Matrix:\n",
      "[[4227   20]\n",
      " [  33 4700]]\n",
      "Classification Report:\n",
      "              precision    recall  f1-score   support\n",
      "\n",
      "           0       0.99      1.00      0.99      4247\n",
      "           1       1.00      0.99      0.99      4733\n",
      "\n",
      "    accuracy                           0.99      8980\n",
      "   macro avg       0.99      0.99      0.99      8980\n",
      "weighted avg       0.99      0.99      0.99      8980\n",
      "\n"
     ]
    }
   ],
   "source": [
    "from sklearn.svm import SVC\n",
    "\n",
    "# Train a Support Vector Machine model\n",
    "print(\"Training SVM model...\")\n",
    "model_svm = SVC(kernel='linear', C=1, random_state=42)\n",
    "model_svm.fit(X_train_tfidf, y_train)\n",
    "\n",
    "# Save the model\n",
    "joblib.dump(model_svm, 'models/fake_news_svm_model.pkl')\n",
    "print(\"Model training complete.\")\n",
    "\n",
    "# Evaluate the model\n",
    "print(\"Evaluating SVM model on the test dataset...\")\n",
    "y_pred_svm = model_svm.predict(X_test_tfidf)\n",
    "accuracy_svm = accuracy_score(y_test, y_pred_svm)\n",
    "print(f\"Accuracy: {accuracy_svm}\")\n",
    "print(\"Confusion Matrix:\")\n",
    "print(confusion_matrix(y_test, y_pred_svm))\n",
    "print(\"Classification Report:\")\n",
    "print(classification_report(y_test, y_pred_svm))"
   ]
  },
  {
   "cell_type": "code",
   "execution_count": 10,
   "metadata": {},
   "outputs": [
    {
     "name": "stdout",
     "output_type": "stream",
     "text": [
      "Classifying example articles...\n",
      "Article: President Joe Biden announced a new policy aimed at reducing taxes for middle-income families, sparking widespread debate among economists.\n",
      "Prediction: Fake News\n",
      "\n",
      "Article: Senator Mitch McConnell claims that last year’s election was rigged and calls for an independent investigation into the results.\n",
      "Prediction: Fake News\n",
      "\n",
      "Article: Governor Gavin Newsom has introduced a bill to expand healthcare subsidies for lower-income groups, drawing mixed reactions from both parties.\n",
      "Prediction: Real News\n",
      "\n",
      "Article: Reports suggest that Prime Minister Boris Johnson secretly negotiated a deal with alien species to secure resources for the UK.\n",
      "Prediction: Fake News\n",
      "\n",
      "Article: Opposition leader Alexandria Ocasio-Cortez is organizing a rally to protest recent changes to immigration laws passed by the ruling party, which is supposedly funded by foreign governments.\n",
      "Prediction: Fake News\n",
      "\n",
      "Article: Intelligence officials allege that foreign agents influenced the election, but a leaked memo claims the entire story is fabricated by secret government agencies.\n",
      "Prediction: Fake News\n",
      "\n"
     ]
    }
   ],
   "source": [
    "# Making predictions on new articles\n",
    "def predict_news(article):\n",
    "    vectorizer = joblib.load('models/fake_news_vectorizer.pkl')\n",
    "    model = joblib.load('models/fake_news_model.pkl')\n",
    "    article_tfidf = vectorizer.transform([article])\n",
    "    prediction = model.predict(article_tfidf)\n",
    "    return \"Fake News\" if prediction[0] == 1 else \"Real News\"\n",
    "\n",
    "# Example articles\n",
    "articles = [\n",
    "    \"President Joe Biden announced a new policy aimed at reducing taxes for middle-income families, sparking widespread debate among economists.\",\n",
    "    \"Senator Mitch McConnell claims that last year’s election was rigged and calls for an independent investigation into the results.\",\n",
    "    \"Governor Gavin Newsom has introduced a bill to expand healthcare subsidies for lower-income groups, drawing mixed reactions from both parties.\",\n",
    "    \"Reports suggest that Prime Minister Boris Johnson secretly negotiated a deal with alien species to secure resources for the UK.\",\n",
    "    \"Opposition leader Alexandria Ocasio-Cortez is organizing a rally to protest recent changes to immigration laws passed by the ruling party, which is supposedly funded by foreign governments.\",\n",
    "    \"Intelligence officials allege that foreign agents influenced the election, but a leaked memo claims the entire story is fabricated by secret government agencies.\"\n",
    "]\n",
    "\n",
    "\n",
    "print(\"Classifying example articles...\")\n",
    "for article in articles:\n",
    "    label = predict_news(article)\n",
    "    print(f\"Article: {article}\\nPrediction: {label}\\n\")"
   ]
  },
  {
   "cell_type": "code",
   "execution_count": null,
   "metadata": {},
   "outputs": [],
   "source": []
  }
 ],
 "metadata": {
  "kernelspec": {
   "display_name": "Python 3",
   "language": "python",
   "name": "python3"
  },
  "language_info": {
   "codemirror_mode": {
    "name": "ipython",
    "version": 3
   },
   "file_extension": ".py",
   "mimetype": "text/x-python",
   "name": "python",
   "nbconvert_exporter": "python",
   "pygments_lexer": "ipython3",
   "version": "3.12.3"
  }
 },
 "nbformat": 4,
 "nbformat_minor": 2
}
